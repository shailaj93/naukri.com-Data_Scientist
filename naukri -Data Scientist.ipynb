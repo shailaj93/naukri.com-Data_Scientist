{
 "cells": [
  {
   "cell_type": "code",
   "execution_count": 24,
   "id": "a75ede2a",
   "metadata": {},
   "outputs": [
    {
     "name": "stdout",
     "output_type": "stream",
     "text": [
      "Requirement already satisfied: selenium in c:\\users\\ayushi\\anaconda3\\lib\\site-packages (4.1.0)\n",
      "Requirement already satisfied: trio~=0.17 in c:\\users\\ayushi\\anaconda3\\lib\\site-packages (from selenium) (0.19.0)\n",
      "Requirement already satisfied: trio-websocket~=0.9 in c:\\users\\ayushi\\anaconda3\\lib\\site-packages (from selenium) (0.9.2)\n",
      "Requirement already satisfied: urllib3[secure]~=1.26 in c:\\users\\ayushi\\anaconda3\\lib\\site-packages (from selenium) (1.26.4)\n",
      "Requirement already satisfied: attrs>=19.2.0 in c:\\users\\ayushi\\anaconda3\\lib\\site-packages (from trio~=0.17->selenium) (20.3.0)\n",
      "Requirement already satisfied: sniffio in c:\\users\\ayushi\\anaconda3\\lib\\site-packages (from trio~=0.17->selenium) (1.2.0)\n",
      "Requirement already satisfied: sortedcontainers in c:\\users\\ayushi\\anaconda3\\lib\\site-packages (from trio~=0.17->selenium) (2.3.0)\n",
      "Requirement already satisfied: idna in c:\\users\\ayushi\\anaconda3\\lib\\site-packages (from trio~=0.17->selenium) (2.10)\n",
      "Requirement already satisfied: async-generator>=1.9 in c:\\users\\ayushi\\anaconda3\\lib\\site-packages (from trio~=0.17->selenium) (1.10)\n",
      "Requirement already satisfied: outcome in c:\\users\\ayushi\\anaconda3\\lib\\site-packages (from trio~=0.17->selenium) (1.1.0)\n",
      "Requirement already satisfied: cffi>=1.14 in c:\\users\\ayushi\\anaconda3\\lib\\site-packages (from trio~=0.17->selenium) (1.14.5)\n",
      "Requirement already satisfied: pycparser in c:\\users\\ayushi\\anaconda3\\lib\\site-packages (from cffi>=1.14->trio~=0.17->selenium) (2.20)\n",
      "Requirement already satisfied: wsproto>=0.14 in c:\\users\\ayushi\\anaconda3\\lib\\site-packages (from trio-websocket~=0.9->selenium) (1.0.0)\n",
      "Requirement already satisfied: certifi in c:\\users\\ayushi\\anaconda3\\lib\\site-packages (from urllib3[secure]~=1.26->selenium) (2020.12.5)\n",
      "Requirement already satisfied: pyOpenSSL>=0.14 in c:\\users\\ayushi\\anaconda3\\lib\\site-packages (from urllib3[secure]~=1.26->selenium) (20.0.1)\n",
      "Requirement already satisfied: cryptography>=1.3.4 in c:\\users\\ayushi\\anaconda3\\lib\\site-packages (from urllib3[secure]~=1.26->selenium) (3.4.7)\n",
      "Requirement already satisfied: six>=1.5.2 in c:\\users\\ayushi\\anaconda3\\lib\\site-packages (from pyOpenSSL>=0.14->urllib3[secure]~=1.26->selenium) (1.15.0)\n",
      "Requirement already satisfied: h11<1,>=0.9.0 in c:\\users\\ayushi\\anaconda3\\lib\\site-packages (from wsproto>=0.14->trio-websocket~=0.9->selenium) (0.12.0)\n"
     ]
    }
   ],
   "source": [
    "!pip install selenium"
   ]
  },
  {
   "cell_type": "code",
   "execution_count": 25,
   "id": "373b6e32",
   "metadata": {},
   "outputs": [],
   "source": [
    "import selenium\n",
    "from selenium import webdriver\n",
    "import pandas as pd\n",
    "import warnings \n",
    "warnings.filterwarnings('ignore')"
   ]
  },
  {
   "cell_type": "code",
   "execution_count": 26,
   "id": "433feb5b",
   "metadata": {},
   "outputs": [],
   "source": [
    "driver=webdriver.Chrome(r'C:\\Users\\AYUSHI\\Downloads\\chromedriver_win32\\chromedriver.exe')"
   ]
  },
  {
   "cell_type": "code",
   "execution_count": 27,
   "id": "1c0da8f1",
   "metadata": {},
   "outputs": [],
   "source": [
    "url='https://www.naukri.com'\n",
    "driver.get(url)"
   ]
  },
  {
   "cell_type": "code",
   "execution_count": 28,
   "id": "4b97cf09",
   "metadata": {},
   "outputs": [
    {
     "data": {
      "text/plain": [
       "<selenium.webdriver.remote.webelement.WebElement (session=\"6ba4be1ce4188b1a08eb1cba43bfc426\", element=\"924ab2dd-4998-4efb-80e1-157a88af852f\")>"
      ]
     },
     "execution_count": 28,
     "metadata": {},
     "output_type": "execute_result"
    }
   ],
   "source": [
    "search_job=driver.find_element_by_id('qsb-keyword-sugg')\n",
    "search_job"
   ]
  },
  {
   "cell_type": "code",
   "execution_count": 29,
   "id": "4bda2a6d",
   "metadata": {},
   "outputs": [],
   "source": [
    "search_job.send_keys('Data Scientist')"
   ]
  },
  {
   "cell_type": "code",
   "execution_count": 30,
   "id": "c3b4906a",
   "metadata": {},
   "outputs": [
    {
     "data": {
      "text/plain": [
       "<selenium.webdriver.remote.webelement.WebElement (session=\"6ba4be1ce4188b1a08eb1cba43bfc426\", element=\"bc395f6f-23b8-4342-bb80-1791f597aa2e\")>"
      ]
     },
     "execution_count": 30,
     "metadata": {},
     "output_type": "execute_result"
    }
   ],
   "source": [
    "search_locn=driver.find_element_by_xpath('/html/body/div[1]/div[3]/div[2]/section/div/form/div[2]/div/div/div/div[1]/div[2]/input')\n",
    "search_locn"
   ]
  },
  {
   "cell_type": "code",
   "execution_count": 31,
   "id": "e2f95c7f",
   "metadata": {},
   "outputs": [],
   "source": [
    "search_locn.send_keys('Bangalore')"
   ]
  },
  {
   "cell_type": "code",
   "execution_count": 32,
   "id": "eebe328d",
   "metadata": {},
   "outputs": [
    {
     "data": {
      "text/plain": [
       "<selenium.webdriver.remote.webelement.WebElement (session=\"6ba4be1ce4188b1a08eb1cba43bfc426\", element=\"1bf7bac7-179c-4bd6-8203-751eab296c4d\")>"
      ]
     },
     "execution_count": 32,
     "metadata": {},
     "output_type": "execute_result"
    }
   ],
   "source": [
    "search_btn=driver.find_element_by_xpath('/html/body/div[1]/div[3]/div[2]/section/div/form/div[3]/button')\n",
    "search_btn"
   ]
  },
  {
   "cell_type": "code",
   "execution_count": 33,
   "id": "7dbabe6d",
   "metadata": {},
   "outputs": [],
   "source": [
    "search_btn.click()"
   ]
  },
  {
   "cell_type": "code",
   "execution_count": 34,
   "id": "4a38e15d",
   "metadata": {},
   "outputs": [
    {
     "data": {
      "text/plain": [
       "20"
      ]
     },
     "execution_count": 34,
     "metadata": {},
     "output_type": "execute_result"
    }
   ],
   "source": [
    "titles_tags=driver.find_elements_by_xpath('//a[@class=\"title fw500 ellipsis\"]')\n",
    "len(titles_tags)"
   ]
  },
  {
   "cell_type": "code",
   "execution_count": 35,
   "id": "a3b2ba38",
   "metadata": {},
   "outputs": [
    {
     "data": {
      "text/plain": [
       "['Lead/Senior Data Scientist (NLP)',\n",
       " 'Lead Data Scientist - Prescriptive Analytics/Predictive Modeling',\n",
       " 'Lead Data Scientist - NLP/OpenCV',\n",
       " 'Commercial Analytics Data Scientist',\n",
       " 'Senior Data Scientist - Logistics',\n",
       " 'Senior Data Scientist',\n",
       " 'Lead Data Scientist',\n",
       " 'Lead - Data Analyst / Scientist',\n",
       " 'Data Scientist - Logistics',\n",
       " 'Senior Data Scientist']"
      ]
     },
     "execution_count": 35,
     "metadata": {},
     "output_type": "execute_result"
    }
   ],
   "source": [
    "job_titles=[]\n",
    "for i in titles_tags:\n",
    "    job_titles.append(i.text)\n",
    "job_titles[0:10]"
   ]
  },
  {
   "cell_type": "code",
   "execution_count": 36,
   "id": "aa4e26d7",
   "metadata": {},
   "outputs": [
    {
     "data": {
      "text/plain": [
       "20"
      ]
     },
     "execution_count": 36,
     "metadata": {},
     "output_type": "execute_result"
    }
   ],
   "source": [
    "company_tags=driver.find_elements_by_xpath('//a[@class=\"subTitle ellipsis fleft\"]')\n",
    "len(company_tags)"
   ]
  },
  {
   "cell_type": "code",
   "execution_count": 37,
   "id": "64b9f92f",
   "metadata": {},
   "outputs": [
    {
     "data": {
      "text/plain": [
       "['Samya.AI A FRACTAL Entity',\n",
       " 'Codersbrain',\n",
       " 'Codersbrain',\n",
       " 'Dell',\n",
       " 'Gojek Tech',\n",
       " 'Fractal Analytics',\n",
       " 'First American',\n",
       " 'Axim Technologies',\n",
       " 'GO-JEK India',\n",
       " 'Idexcel Technologies Private Limited']"
      ]
     },
     "execution_count": 37,
     "metadata": {},
     "output_type": "execute_result"
    }
   ],
   "source": [
    "company_names=[]\n",
    "for j in company_tags:\n",
    "    company_names.append(j.text)\n",
    "company_names[0:10]"
   ]
  },
  {
   "cell_type": "code",
   "execution_count": 38,
   "id": "3f49d323",
   "metadata": {},
   "outputs": [
    {
     "data": {
      "text/plain": [
       "20"
      ]
     },
     "execution_count": 38,
     "metadata": {},
     "output_type": "execute_result"
    }
   ],
   "source": [
    "location_tags=driver.find_elements_by_xpath('//li[@class=\"fleft grey-text br2 placeHolderLi location\"]')\n",
    "len(location_tags)"
   ]
  },
  {
   "cell_type": "code",
   "execution_count": 39,
   "id": "eaa10eb6",
   "metadata": {},
   "outputs": [
    {
     "data": {
      "text/plain": [
       "['Bangalore/Bengaluru\\n(WFH during Covid)',\n",
       " 'Hyderabad/Secunderabad, Bangalore/Bengaluru',\n",
       " 'Hyderabad/Secunderabad, Bangalore/Bengaluru',\n",
       " 'Bangalore/Bengaluru',\n",
       " 'Bangalore/Bengaluru',\n",
       " 'Gurgaon/Gurugram, Bangalore/Bengaluru, Mumbai (All Areas)',\n",
       " 'Bangalore/Bengaluru',\n",
       " 'Bangalore/Bengaluru',\n",
       " 'Bangalore/Bengaluru',\n",
       " 'Bangalore/Bengaluru']"
      ]
     },
     "execution_count": 39,
     "metadata": {},
     "output_type": "execute_result"
    }
   ],
   "source": [
    "location_names=[]\n",
    "for k in location_tags:\n",
    "    location_names.append(k.text)\n",
    "location_names[0:10]"
   ]
  },
  {
   "cell_type": "code",
   "execution_count": 40,
   "id": "cc1e145a",
   "metadata": {},
   "outputs": [
    {
     "data": {
      "text/plain": [
       "20"
      ]
     },
     "execution_count": 40,
     "metadata": {},
     "output_type": "execute_result"
    }
   ],
   "source": [
    "experience_tags=driver.find_elements_by_xpath('//li[@class=\"fleft grey-text br2 placeHolderLi experience\"]/span')\n",
    "len(experience_tags)"
   ]
  },
  {
   "cell_type": "code",
   "execution_count": 41,
   "id": "48dbe897",
   "metadata": {},
   "outputs": [
    {
     "data": {
      "text/plain": [
       "['3-8 Yrs',\n",
       " '6-11 Yrs',\n",
       " '6-11 Yrs',\n",
       " '12-15 Yrs',\n",
       " '5-8 Yrs',\n",
       " '5-10 Yrs',\n",
       " '9-14 Yrs',\n",
       " '12-14 Yrs',\n",
       " '4-10 Yrs',\n",
       " '2-7 Yrs']"
      ]
     },
     "execution_count": 41,
     "metadata": {},
     "output_type": "execute_result"
    }
   ],
   "source": [
    "experience_years=[]\n",
    "for k in experience_tags:\n",
    "    experience_years.append(k.text)\n",
    "experience_years[0:10]"
   ]
  },
  {
   "cell_type": "code",
   "execution_count": 42,
   "id": "c83bab14",
   "metadata": {},
   "outputs": [
    {
     "data": {
      "text/plain": [
       "(20, 20, 20, 20)"
      ]
     },
     "execution_count": 42,
     "metadata": {},
     "output_type": "execute_result"
    }
   ],
   "source": [
    "len(job_titles),len(company_names),len(experience_years),len(location_names)"
   ]
  },
  {
   "cell_type": "code",
   "execution_count": 43,
   "id": "82b397cf",
   "metadata": {},
   "outputs": [
    {
     "data": {
      "text/html": [
       "<div>\n",
       "<style scoped>\n",
       "    .dataframe tbody tr th:only-of-type {\n",
       "        vertical-align: middle;\n",
       "    }\n",
       "\n",
       "    .dataframe tbody tr th {\n",
       "        vertical-align: top;\n",
       "    }\n",
       "\n",
       "    .dataframe thead th {\n",
       "        text-align: right;\n",
       "    }\n",
       "</style>\n",
       "<table border=\"1\" class=\"dataframe\">\n",
       "  <thead>\n",
       "    <tr style=\"text-align: right;\">\n",
       "      <th></th>\n",
       "      <th>Job titles</th>\n",
       "      <th>Company</th>\n",
       "      <th>Experience</th>\n",
       "      <th>Location</th>\n",
       "    </tr>\n",
       "  </thead>\n",
       "  <tbody>\n",
       "    <tr>\n",
       "      <th>0</th>\n",
       "      <td>Lead/Senior Data Scientist (NLP)</td>\n",
       "      <td>Samya.AI A FRACTAL Entity</td>\n",
       "      <td>3-8 Yrs</td>\n",
       "      <td>Bangalore/Bengaluru\\n(WFH during Covid)</td>\n",
       "    </tr>\n",
       "    <tr>\n",
       "      <th>1</th>\n",
       "      <td>Lead Data Scientist - Prescriptive Analytics/P...</td>\n",
       "      <td>Codersbrain</td>\n",
       "      <td>6-11 Yrs</td>\n",
       "      <td>Hyderabad/Secunderabad, Bangalore/Bengaluru</td>\n",
       "    </tr>\n",
       "    <tr>\n",
       "      <th>2</th>\n",
       "      <td>Lead Data Scientist - NLP/OpenCV</td>\n",
       "      <td>Codersbrain</td>\n",
       "      <td>6-11 Yrs</td>\n",
       "      <td>Hyderabad/Secunderabad, Bangalore/Bengaluru</td>\n",
       "    </tr>\n",
       "    <tr>\n",
       "      <th>3</th>\n",
       "      <td>Commercial Analytics Data Scientist</td>\n",
       "      <td>Dell</td>\n",
       "      <td>12-15 Yrs</td>\n",
       "      <td>Bangalore/Bengaluru</td>\n",
       "    </tr>\n",
       "    <tr>\n",
       "      <th>4</th>\n",
       "      <td>Senior Data Scientist - Logistics</td>\n",
       "      <td>Gojek Tech</td>\n",
       "      <td>5-8 Yrs</td>\n",
       "      <td>Bangalore/Bengaluru</td>\n",
       "    </tr>\n",
       "    <tr>\n",
       "      <th>5</th>\n",
       "      <td>Senior Data Scientist</td>\n",
       "      <td>Fractal Analytics</td>\n",
       "      <td>5-10 Yrs</td>\n",
       "      <td>Gurgaon/Gurugram, Bangalore/Bengaluru, Mumbai ...</td>\n",
       "    </tr>\n",
       "    <tr>\n",
       "      <th>6</th>\n",
       "      <td>Lead Data Scientist</td>\n",
       "      <td>First American</td>\n",
       "      <td>9-14 Yrs</td>\n",
       "      <td>Bangalore/Bengaluru</td>\n",
       "    </tr>\n",
       "    <tr>\n",
       "      <th>7</th>\n",
       "      <td>Lead - Data Analyst / Scientist</td>\n",
       "      <td>Axim Technologies</td>\n",
       "      <td>12-14 Yrs</td>\n",
       "      <td>Bangalore/Bengaluru</td>\n",
       "    </tr>\n",
       "    <tr>\n",
       "      <th>8</th>\n",
       "      <td>Data Scientist - Logistics</td>\n",
       "      <td>GO-JEK India</td>\n",
       "      <td>4-10 Yrs</td>\n",
       "      <td>Bangalore/Bengaluru</td>\n",
       "    </tr>\n",
       "    <tr>\n",
       "      <th>9</th>\n",
       "      <td>Senior Data Scientist</td>\n",
       "      <td>Idexcel Technologies Private Limited</td>\n",
       "      <td>2-7 Yrs</td>\n",
       "      <td>Bangalore/Bengaluru</td>\n",
       "    </tr>\n",
       "  </tbody>\n",
       "</table>\n",
       "</div>"
      ],
      "text/plain": [
       "                                          Job titles  \\\n",
       "0                   Lead/Senior Data Scientist (NLP)   \n",
       "1  Lead Data Scientist - Prescriptive Analytics/P...   \n",
       "2                   Lead Data Scientist - NLP/OpenCV   \n",
       "3                Commercial Analytics Data Scientist   \n",
       "4                  Senior Data Scientist - Logistics   \n",
       "5                              Senior Data Scientist   \n",
       "6                                Lead Data Scientist   \n",
       "7                    Lead - Data Analyst / Scientist   \n",
       "8                         Data Scientist - Logistics   \n",
       "9                              Senior Data Scientist   \n",
       "\n",
       "                               Company  Experience  \\\n",
       "0             Samya.AI A FRACTAL Entity    3-8 Yrs   \n",
       "1                           Codersbrain   6-11 Yrs   \n",
       "2                           Codersbrain   6-11 Yrs   \n",
       "3                                  Dell  12-15 Yrs   \n",
       "4                            Gojek Tech    5-8 Yrs   \n",
       "5                     Fractal Analytics   5-10 Yrs   \n",
       "6                        First American   9-14 Yrs   \n",
       "7                     Axim Technologies  12-14 Yrs   \n",
       "8                          GO-JEK India   4-10 Yrs   \n",
       "9  Idexcel Technologies Private Limited    2-7 Yrs   \n",
       "\n",
       "                                            Location  \n",
       "0            Bangalore/Bengaluru\\n(WFH during Covid)  \n",
       "1        Hyderabad/Secunderabad, Bangalore/Bengaluru  \n",
       "2        Hyderabad/Secunderabad, Bangalore/Bengaluru  \n",
       "3                                Bangalore/Bengaluru  \n",
       "4                                Bangalore/Bengaluru  \n",
       "5  Gurgaon/Gurugram, Bangalore/Bengaluru, Mumbai ...  \n",
       "6                                Bangalore/Bengaluru  \n",
       "7                                Bangalore/Bengaluru  \n",
       "8                                Bangalore/Bengaluru  \n",
       "9                                Bangalore/Bengaluru  "
      ]
     },
     "execution_count": 43,
     "metadata": {},
     "output_type": "execute_result"
    }
   ],
   "source": [
    "jobs=pd.DataFrame()\n",
    "jobs['Job titles']= job_titles\n",
    "jobs['Company ']= company_names\n",
    "jobs['Experience']= experience_years\n",
    "jobs['Location']= location_names\n",
    "jobs[0:10]"
   ]
  },
  {
   "cell_type": "code",
   "execution_count": null,
   "id": "27e7d7b8",
   "metadata": {},
   "outputs": [],
   "source": []
  }
 ],
 "metadata": {
  "kernelspec": {
   "display_name": "Python 3",
   "language": "python",
   "name": "python3"
  },
  "language_info": {
   "codemirror_mode": {
    "name": "ipython",
    "version": 3
   },
   "file_extension": ".py",
   "mimetype": "text/x-python",
   "name": "python",
   "nbconvert_exporter": "python",
   "pygments_lexer": "ipython3",
   "version": "3.8.8"
  }
 },
 "nbformat": 4,
 "nbformat_minor": 5
}
